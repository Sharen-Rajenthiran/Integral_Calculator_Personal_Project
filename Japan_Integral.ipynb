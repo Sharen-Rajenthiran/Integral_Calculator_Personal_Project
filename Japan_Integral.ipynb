{
 "cells": [
  {
   "cell_type": "markdown",
   "metadata": {},
   "source": [
    "$$\n",
    "I = ae^{\\frac{-1}{2}(b(x-d)+e^{-c(x-d)})}"
   ]
  },
  {
   "cell_type": "code",
   "execution_count": 13,
   "metadata": {},
   "outputs": [
    {
     "name": "stdout",
     "output_type": "stream",
     "text": [
      "(0.5467100584884914, 6.069700947280892e-15)\n"
     ]
    }
   ],
   "source": [
    "import numpy as np\n",
    "from scipy.integrate import quad\n",
    "import matplotlib.pyplot as plt\n",
    "\n",
    "\n",
    "def integrand(x,a,b,c,d):\n",
    "    return a*np.exp((-1/2)*(b*(x-d) + np.exp(-c*(x-d))))\n",
    "\n",
    "\n",
    "def solution(a,b,c,d):\n",
    "    return quad(integrand, 0,1, args=(a,b,c,d, ))\n",
    "\n",
    "print(solution(1,1,1,1))\n",
    "\n",
    "\n",
    "\n",
    "\n"
   ]
  }
 ],
 "metadata": {
  "kernelspec": {
   "display_name": "Python 3",
   "language": "python",
   "name": "python3"
  },
  "language_info": {
   "codemirror_mode": {
    "name": "ipython",
    "version": 3
   },
   "file_extension": ".py",
   "mimetype": "text/x-python",
   "name": "python",
   "nbconvert_exporter": "python",
   "pygments_lexer": "ipython3",
   "version": "3.9.7"
  },
  "orig_nbformat": 4
 },
 "nbformat": 4,
 "nbformat_minor": 2
}
